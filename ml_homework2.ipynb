{
  "nbformat": 4,
  "nbformat_minor": 0,
  "metadata": {
    "colab": {
      "provenance": [],
      "gpuType": "T4",
      "mount_file_id": "1ClRs_kX199PZGOwbBzBJBB53IIgRwUq9",
      "authorship_tag": "ABX9TyNv6b4fNpkXZa81WqePoJH4",
      "include_colab_link": true
    },
    "kernelspec": {
      "name": "python3",
      "display_name": "Python 3"
    },
    "language_info": {
      "name": "python"
    },
    "accelerator": "GPU"
  },
  "cells": [
    {
      "cell_type": "markdown",
      "metadata": {
        "id": "view-in-github",
        "colab_type": "text"
      },
      "source": [
        "<a href=\"https://colab.research.google.com/github/AliValizade/ML_in_Uni/blob/main/ml_homework2.ipynb\" target=\"_parent\"><img src=\"https://colab.research.google.com/assets/colab-badge.svg\" alt=\"Open In Colab\"/></a>"
      ]
    },
    {
      "cell_type": "code",
      "source": [
        "import numpy as np\n",
        "import pandas as pd\n",
        "from sklearn.model_selection import KFold\n",
        "from sklearn.metrics import mean_squared_error, mean_absolute_error\n",
        "from sklearn.preprocessing import StandardScaler\n",
        "\n",
        "# Read dataset\n",
        "def read_dataset():\n",
        "    X = pd.read_csv('/content/drive/MyDrive/datasets/ML/Xtrain.csv').values.astype(np.float32)\n",
        "    y = pd.read_csv('/content/drive/MyDrive/datasets/ML/Ytrain.csv').values.astype(np.float32)\n",
        "    return X, y\n",
        "\n",
        "# Ridge Regression using formula\n",
        "def ridge_regression(X, y, lambda_val=0.1):\n",
        "    X_transpose = X.T\n",
        "    identity_matrix = np.eye(X.shape[1])\n",
        "    w = np.linalg.inv(X_transpose.dot(X) + lambda_val * identity_matrix).dot(X_transpose).dot(y)\n",
        "    return w\n",
        "\n",
        "# Custom function to create polynomial features as specified\n",
        "def create_custom_polynomial_features(X):\n",
        "    X_poly = np.ones((X.shape[0], 1))  # Start with x^0\n",
        "    for i in range(1, 4):  # x^1 to x^3\n",
        "        X_poly = np.hstack((X_poly, X ** i))\n",
        "    return X_poly\n",
        "\n",
        "# Function to compute error metrics\n",
        "def compute_errors(w, X, y):\n",
        "    y_pred = X.dot(w)\n",
        "    mse = mean_squared_error(y, y_pred)\n",
        "    mae = mean_absolute_error(y, y_pred)\n",
        "    return mse, mae\n",
        "\n",
        "def run_experiment():\n",
        "    # Read dataset\n",
        "    X, y = read_dataset()\n",
        "\n",
        "    # Create custom polynomial features\n",
        "    X_poly = create_custom_polynomial_features(X)\n",
        "\n",
        "    # Initialize 5-fold cross-validation\n",
        "    kf = KFold(n_splits=5, shuffle=True, random_state=42)\n",
        "    best_lambda = 0.1\n",
        "    best_mse = float('inf')\n",
        "    best_mae = float('inf')\n",
        "    lambdas = [0.01, 0.1, 1, 10]\n",
        "\n",
        "    # Search for best lambda using cross-validation\n",
        "    for lambda_val in lambdas:\n",
        "        mse_scores = []\n",
        "        mae_scores = []\n",
        "        for train_index, test_index in kf.split(X_poly):\n",
        "            # Split data\n",
        "            X_train, X_test = X_poly[train_index], X_poly[test_index]\n",
        "            y_train, y_test = y[train_index], y[test_index]\n",
        "\n",
        "            # # Normalize data\n",
        "            # scaler = StandardScaler()\n",
        "            # X_train_normalized = scaler.fit_transform(X_train)\n",
        "            # X_test_normalized = scaler.transform(X_test)\n",
        "\n",
        "            # Train model\n",
        "            w = ridge_regression(X_train, y_train, lambda_val)\n",
        "\n",
        "            # Compute errors\n",
        "            mse, mae = compute_errors(w, X_test, y_test)\n",
        "            mse_scores.append(mse)\n",
        "            mae_scores.append(mae)\n",
        "\n",
        "        # Average MSE and MAE for current lambda\n",
        "        avg_mse = np.mean(mse_scores)\n",
        "        avg_mae = np.mean(mae_scores)\n",
        "\n",
        "        # Update best lambda if lower MSE is found\n",
        "        if avg_mse < best_mse:\n",
        "            best_lambda = lambda_val\n",
        "            best_mse = avg_mse\n",
        "            best_mae = avg_mae\n",
        "\n",
        "    # Final model training with best lambda on full dataset\n",
        "    w_final = ridge_regression(X_poly, y, best_lambda)\n",
        "\n",
        "    print(f\"Best lambda: {best_lambda}\")\n",
        "    print(f\"Best Cross-Validated MSE: {best_mse:.4f}\")\n",
        "    print(f\"Best Cross-Validated MAE: {best_mae:.4f}\")\n",
        "\n",
        "    # Read test dataset\n",
        "    X_test_real = pd.read_csv('/content/drive/MyDrive/datasets/ML/Xtest.csv').values.astype(np.float32)\n",
        "    print(f\"Shape of X_test_real: {X_test_real.shape}\")\n",
        "\n",
        "    # Create polynomial features for test dataset\n",
        "    X_test_poly = create_custom_polynomial_features(X_test_real)\n",
        "\n",
        "    # Predict using the final model\n",
        "    y_test_pred = X_test_poly.dot(w_final)\n",
        "\n",
        "    # Save predictions to a text file\n",
        "    output_file = '/content/drive/MyDrive/datasets/ML/y_test_predictions.txt'\n",
        "    np.savetxt(output_file, y_test_pred, fmt='%.6f')  # Save with 6 decimal places\n",
        "\n",
        "    print(f\"Predictions saved to {output_file}\")\n",
        "\n",
        "run_experiment()"
      ],
      "metadata": {
        "colab": {
          "base_uri": "https://localhost:8080/"
        },
        "id": "fLutMzPJHxkr",
        "outputId": "5b2bdf8e-14b9-4950-9244-c13842e367fa"
      },
      "execution_count": 10,
      "outputs": [
        {
          "output_type": "stream",
          "name": "stdout",
          "text": [
            "Best lambda: 0.01\n",
            "Best Cross-Validated MSE: 0.2269\n",
            "Best Cross-Validated MAE: 0.3761\n",
            "Shape of X_test_real: (300, 100)\n",
            "Predictions saved to /content/drive/MyDrive/datasets/ML/y_test_predictions.txt\n"
          ]
        }
      ]
    }
  ]
}